{
  "nbformat": 4,
  "nbformat_minor": 0,
  "metadata": {
    "colab": {
      "provenance": [],
      "gpuType": "T4",
      "include_colab_link": true
    },
    "kernelspec": {
      "name": "python3",
      "display_name": "Python 3"
    },
    "language_info": {
      "name": "python"
    },
    "accelerator": "GPU"
  },
  "cells": [
    {
      "cell_type": "markdown",
      "metadata": {
        "id": "view-in-github",
        "colab_type": "text"
      },
      "source": [
        "<a href=\"https://colab.research.google.com/github/AndDiCa/pythonML/blob/main/Tema_04_Ejercicio_Resuelto_Modelo_Prediccion.ipynb\" target=\"_parent\"><img src=\"https://colab.research.google.com/assets/colab-badge.svg\" alt=\"Open In Colab\"/></a>"
      ]
    },
    {
      "cell_type": "markdown",
      "source": [
        "# Ejemplo\n",
        "## Paso 1: Importar las bibliotecas necesarias\n",
        "\n",
        "Se importan las bibliotecas requeridas para el pipeline:\n",
        "\n",
        "\n",
        "*   TensorFlow: Para construir y entrenar el modelo de ML.\n",
        "*   Keras: API de alto nivel dentro de TensorFlow para diseñar redes neuronales.\n",
        "*   Numpy y Pandas: Para manipulación de datos y arrays.\n",
        "*   Matplotlib: Para visualizar curvas de pérdida y precisión.\n",
        "*   Scikit-learn: Para normalización de datos y división de conjuntos de dato"
      ],
      "metadata": {
        "id": "L3wYi2KIV7WI"
      }
    },
    {
      "cell_type": "code",
      "execution_count": 8,
      "metadata": {
        "id": "BNll0Wq-UCa8"
      },
      "outputs": [],
      "source": [
        "import tensorflow as tf\n",
        "import pandas as pd\n",
        "import numpy as np\n",
        "from tensorflow.keras import Sequential\n",
        "from tensorflow.keras.layers import Dense\n",
        "from sklearn.preprocessing import StandardScaler\n",
        "from sklearn.model_selection import train_test_split\n",
        "import matplotlib.pyplot as plt"
      ]
    },
    {
      "cell_type": "markdown",
      "source": [
        "## Paso 2: Descargar el dataset Boston Housing\n",
        "\n",
        "*   Se utiliza el dataset Boston Housing incluido en TensorFlow, que contiene datos sobre precios de viviendas en función de características como número de habitaciones, tamaño, etc.\n",
        "*   Los datos se dividen automáticamente en:\n",
        "  *   `X_train` y `y_train`: Conjunto de entrenamiento.\n",
        "  *   `X_test` y `y_test`: Conjunto de prueba para evaluar el modelo."
      ],
      "metadata": {
        "id": "Ui5y6kBnWmSO"
      }
    },
    {
      "cell_type": "code",
      "source": [
        "# Paso 2: Cargar el dataset Boston Housing\n",
        "# TODO: Completar este paso.\n",
        "# Usa la función `boston_housing.load_data()` para cargar los datos en\n",
        "# las variables X_train, y_train, X_test, y_test.\n",
        "\n",
        "from tensorflow.keras.datasets import boston_housing\n",
        "\n",
        "(X_train, y_train), (X_test, y_test) = boston_housing.load_data()\n",
        "\n",
        "# Verifica las dimensiones de los datos.\n",
        "print(\"Tamaño del conjunto de entrenamiento:\", X_train.shape)\n",
        "print(\"Tamaño del conjunto de prueba:\", X_test.shape)"
      ],
      "metadata": {
        "colab": {
          "base_uri": "https://localhost:8080/"
        },
        "id": "wp41AsGTUVGE",
        "outputId": "0ee1afb0-a952-45d8-a8e5-5f7af974a4e4"
      },
      "execution_count": 2,
      "outputs": [
        {
          "output_type": "stream",
          "name": "stdout",
          "text": [
            "Downloading data from https://storage.googleapis.com/tensorflow/tf-keras-datasets/boston_housing.npz\n",
            "\u001b[1m57026/57026\u001b[0m \u001b[32m━━━━━━━━━━━━━━━━━━━━\u001b[0m\u001b[37m\u001b[0m \u001b[1m0s\u001b[0m 0us/step\n",
            "Tamaño del conjunto de entrenamiento: (404, 13)\n",
            "Tamaño del conjunto de prueba: (102, 13)\n"
          ]
        }
      ]
    },
    {
      "cell_type": "markdown",
      "source": [
        "### Paso 2.5 Visualizar los datos\n",
        "necesitamos saber si hay valores vacios y si necesitamos o no o bien de que forma normalizar, es decir revisar los rangos y escalas de nuestras variables."
      ],
      "metadata": {
        "id": "sgmiiO8k8rJs"
      }
    },
    {
      "cell_type": "code",
      "source": [
        "# 2. Nombres de variables\n",
        "feature_names = [\n",
        "    \"CRIM\", \"ZN\", \"INDUS\", \"CHAS\", \"NOX\", \"RM\",\n",
        "    \"AGE\", \"DIS\", \"RAD\", \"TAX\", \"PTRATIO\", \"B\", \"LSTAT\"\n",
        "]\n",
        "\n",
        "# 3. Monta UN DataFrame sólo para inspección\n",
        "df_inspeccion = pd.DataFrame(X_train, columns=feature_names)\n",
        "df_inspeccion['MEDV'] = y_train\n",
        "\n",
        "# 4. Ahora ya puedes ver la estructura y nombres de columna:\n",
        "print(\"Columnas:\", df_inspeccion.columns.tolist())\n",
        "print(\"\\nPrimeras filas (head):\")\n",
        "print(df_inspeccion.head())    # o .tail(), .sample(5), lo que prefieras\n",
        "\n",
        "# 5. Si quieres borrarlo y volver a trabajar con arrays:\n",
        "del df_inspeccion"
      ],
      "metadata": {
        "colab": {
          "base_uri": "https://localhost:8080/"
        },
        "id": "7mUmPTVe87Qy",
        "outputId": "a32789f3-92c9-4c82-b49d-f962be5e045b"
      },
      "execution_count": 14,
      "outputs": [
        {
          "output_type": "stream",
          "name": "stdout",
          "text": [
            "Columnas: ['CRIM', 'ZN', 'INDUS', 'CHAS', 'NOX', 'RM', 'AGE', 'DIS', 'RAD', 'TAX', 'PTRATIO', 'B', 'LSTAT', 'MEDV']\n",
            "\n",
            "Primeras filas (head):\n",
            "      CRIM    ZN  INDUS  CHAS    NOX     RM    AGE     DIS   RAD    TAX  \\\n",
            "0  1.23247   0.0   8.14   0.0  0.538  6.142   91.7  3.9769   4.0  307.0   \n",
            "1  0.02177  82.5   2.03   0.0  0.415  7.610   15.7  6.2700   2.0  348.0   \n",
            "2  4.89822   0.0  18.10   0.0  0.631  4.970  100.0  1.3325  24.0  666.0   \n",
            "3  0.03961   0.0   5.19   0.0  0.515  6.037   34.5  5.9853   5.0  224.0   \n",
            "4  3.69311   0.0  18.10   0.0  0.713  6.376   88.4  2.5671  24.0  666.0   \n",
            "\n",
            "   PTRATIO       B  LSTAT  MEDV  \n",
            "0     21.0  396.90  18.72  15.2  \n",
            "1     14.7  395.38   3.11  42.3  \n",
            "2     20.2  375.52   3.26  50.0  \n",
            "3     20.2  396.90   8.01  21.1  \n",
            "4     20.2  391.43  14.65  17.7  \n"
          ]
        }
      ]
    },
    {
      "cell_type": "code",
      "source": [
        "\n",
        "for col in houses.columns:\n",
        "    vals = houses[col].dropna()\n",
        "    mn, mx = vals.min(), vals.max()\n",
        "    # Notación científica con dos decimales\n",
        "    mn_sci = f\"{mn:.2e}\"\n",
        "    mx_sci = f\"{mx:.2e}\"\n",
        "    # Cálculo del exponente 10^x (evitamos log10(0))\n",
        "    def exp10(v):\n",
        "        return int(np.floor(np.log10(abs(v)))) if v != 0 else 0\n",
        "    mn_exp = exp10(mn)\n",
        "    mx_exp = exp10(mx)\n",
        "\n",
        "    print(f\"{col}:\")\n",
        "    print(f\"  • Rango exacto: {mn_sci} a {mx_sci}\")\n",
        "    print(f\"  • Aprox. potencias de diez: 10^{mn_exp} a 10^{mx_exp}\\n\")\n"
      ],
      "metadata": {
        "colab": {
          "base_uri": "https://localhost:8080/"
        },
        "id": "OPIqhelzEomk",
        "outputId": "c4d64ca5-3141-4e93-91e2-4628f15f2789"
      },
      "execution_count": 15,
      "outputs": [
        {
          "output_type": "stream",
          "name": "stdout",
          "text": [
            "CRIM:\n",
            "  • Rango exacto: 6.32e-03 a 8.90e+01\n",
            "  • Aprox. potencias de diez: 10^-3 a 10^1\n",
            "\n",
            "ZN:\n",
            "  • Rango exacto: 0.00e+00 a 1.00e+02\n",
            "  • Aprox. potencias de diez: 10^0 a 10^2\n",
            "\n",
            "INDUS:\n",
            "  • Rango exacto: 4.60e-01 a 2.77e+01\n",
            "  • Aprox. potencias de diez: 10^-1 a 10^1\n",
            "\n",
            "CHAS:\n",
            "  • Rango exacto: 0.00e+00 a 1.00e+00\n",
            "  • Aprox. potencias de diez: 10^0 a 10^0\n",
            "\n",
            "NOX:\n",
            "  • Rango exacto: 3.85e-01 a 8.71e-01\n",
            "  • Aprox. potencias de diez: 10^-1 a 10^-1\n",
            "\n",
            "RM:\n",
            "  • Rango exacto: 3.56e+00 a 8.78e+00\n",
            "  • Aprox. potencias de diez: 10^0 a 10^0\n",
            "\n",
            "AGE:\n",
            "  • Rango exacto: 2.90e+00 a 1.00e+02\n",
            "  • Aprox. potencias de diez: 10^0 a 10^2\n",
            "\n",
            "DIS:\n",
            "  • Rango exacto: 1.13e+00 a 1.21e+01\n",
            "  • Aprox. potencias de diez: 10^0 a 10^1\n",
            "\n",
            "RAD:\n",
            "  • Rango exacto: 1.00e+00 a 2.40e+01\n",
            "  • Aprox. potencias de diez: 10^0 a 10^1\n",
            "\n",
            "TAX:\n",
            "  • Rango exacto: 1.87e+02 a 7.11e+02\n",
            "  • Aprox. potencias de diez: 10^2 a 10^2\n",
            "\n",
            "PTRATIO:\n",
            "  • Rango exacto: 1.26e+01 a 2.20e+01\n",
            "  • Aprox. potencias de diez: 10^1 a 10^1\n",
            "\n",
            "B:\n",
            "  • Rango exacto: 3.20e-01 a 3.97e+02\n",
            "  • Aprox. potencias de diez: 10^-1 a 10^2\n",
            "\n",
            "LSTAT:\n",
            "  • Rango exacto: 1.73e+00 a 3.80e+01\n",
            "  • Aprox. potencias de diez: 10^0 a 10^1\n",
            "\n",
            "MEDV:\n",
            "  • Rango exacto: 5.00e+00 a 5.00e+01\n",
            "  • Aprox. potencias de diez: 10^0 a 10^1\n",
            "\n"
          ]
        }
      ]
    },
    {
      "cell_type": "markdown",
      "source": [
        "Podemos ver de inmediato que one hot encoding no sera realmente necesario dado que todos los valores son float64.\n",
        "\n",
        "en cuanto a la normalisacion podemos ver que si es necesario, contamos con rangos desde 0.00n hasta 100n"
      ],
      "metadata": {
        "id": "GNm-Lj8-D0DL"
      }
    },
    {
      "cell_type": "markdown",
      "source": [
        "### Ahora verificaremos valores faltantes"
      ],
      "metadata": {
        "id": "-t4obRqLFC-V"
      }
    },
    {
      "cell_type": "code",
      "source": [
        "# Revisar la cantidad de valores faltantes (NaN) en cada columna\n",
        "missing_counts = houses.isna().sum()\n",
        "print(\"Valores faltantes por columna:\")\n",
        "print(missing_counts)"
      ],
      "metadata": {
        "colab": {
          "base_uri": "https://localhost:8080/"
        },
        "id": "mfDj9bodFBeH",
        "outputId": "2c261032-71bb-40b5-f2ef-4028c7376f75"
      },
      "execution_count": 16,
      "outputs": [
        {
          "output_type": "stream",
          "name": "stdout",
          "text": [
            "Valores faltantes por columna:\n",
            "CRIM       0\n",
            "ZN         0\n",
            "INDUS      0\n",
            "CHAS       0\n",
            "NOX        0\n",
            "RM         0\n",
            "AGE        0\n",
            "DIS        0\n",
            "RAD        0\n",
            "TAX        0\n",
            "PTRATIO    0\n",
            "B          0\n",
            "LSTAT      0\n",
            "MEDV       0\n",
            "dtype: int64\n"
          ]
        }
      ]
    },
    {
      "cell_type": "markdown",
      "source": [
        "Podemos ver que no tenemos valore faltantes pero en caso de que si los hubiera utilizariamos la siguiente herramienta"
      ],
      "metadata": {
        "id": "KVX8xIjaFQge"
      }
    },
    {
      "cell_type": "code",
      "source": [
        "# Eliminar todas las filas que contengan al menos un valor faltante\n",
        "houses = houses.dropna()"
      ],
      "metadata": {
        "id": "QbWpQF_UFZda"
      },
      "execution_count": 18,
      "outputs": []
    },
    {
      "cell_type": "markdown",
      "source": [
        "## Paso 3: Normalizar Datos\n",
        "*   Propósito: Escalar las características para que tengan una distribución uniforme (media 0 y desviación estándar 1). Esto mejora la convergencia del modelo durante el entrenamiento.\n",
        "*   `StandardScaler` ajusta el escalador (`fit`) en los datos de entrenamiento y transforma tanto los datos de entrenamiento como los de prueba."
      ],
      "metadata": {
        "id": "t3zKyezMW3vw"
      }
    },
    {
      "cell_type": "code",
      "source": [
        "# Paso 3: Normalizar los datos\n",
        "# TODO: Normalizar los datos usando `StandardScaler` de Scikit-learn.\n",
        "# Ajusta el escalador en X_train y luego transforma X_train y X_test.\n",
        "scaler = StandardScaler()\n",
        "X_train = scaler.fit_transform(X_train)\n",
        "X_test = scaler.transform(X_test)"
      ],
      "metadata": {
        "id": "uGfn3WFpVA9K"
      },
      "execution_count": 19,
      "outputs": []
    },
    {
      "cell_type": "markdown",
      "source": [
        "## Paso 4: Definir el modelo con `tf.keras`\n",
        "\n",
        "1.   Construcción del modelo:\n",
        "\n",
        "  * `Sequential`: Apila capas densas en orden secuencial.\n",
        "  * Capa 1: 64 unidades con activación ReLU, tomando una entrada con la dimensión de las características (`X_train.shape[1]`).\n",
        "  * Capa 2: 64 unidades adicionales con activación ReLU.\n",
        "  * Capa de salida: Una neurona lineal para predecir valores continuos (regresión).\n",
        "\n",
        "2.   Compilación del modelo:\n",
        "\n",
        "  * Optimizador `adam`: Algoritmo adaptativo para ajustar los pesos del modelo.\n",
        "  * Función de pérdida `mse`: Calcula el error cuadrático medio, adecuada para problemas de regresión.\n",
        "  * Métrica `mae`: Error absoluto medio, más interpretable en términos de unidades."
      ],
      "metadata": {
        "id": "wted00-6XSiT"
      }
    },
    {
      "cell_type": "code",
      "source": [
        "# Paso 4: Definir el modelo con tf.keras\n",
        "# TODO: Crear un modelo secuencial con dos capas densas de 64 unidades (ReLU)\n",
        "# y una capa de salida lineal para regresión.\n",
        "modelo = Sequential([\n",
        "    Dense(64, activation='relu', input_shape=(X_train.shape[1],)),\n",
        "    Dense(64, activation='relu'),\n",
        "    Dense(1, activation='linear')\n",
        "])\n",
        "\n",
        "# Compilar el modelo con el optimizador Adam, pérdida MSE, y métrica MAE.\n",
        "modelo.compile(optimizer='adam', loss='mse', metrics=['mae'])"
      ],
      "metadata": {
        "colab": {
          "base_uri": "https://localhost:8080/"
        },
        "id": "7tn8esmFVEZE",
        "outputId": "b2e1e156-2e75-4327-b204-9fc0ccaafa3c"
      },
      "execution_count": 20,
      "outputs": [
        {
          "output_type": "stream",
          "name": "stderr",
          "text": [
            "/usr/local/lib/python3.11/dist-packages/keras/src/layers/core/dense.py:87: UserWarning: Do not pass an `input_shape`/`input_dim` argument to a layer. When using Sequential models, prefer using an `Input(shape)` object as the first layer in the model instead.\n",
            "  super().__init__(activity_regularizer=activity_regularizer, **kwargs)\n"
          ]
        }
      ]
    },
    {
      "cell_type": "markdown",
      "source": [
        "## Paso 5: Entrenar el modelo\n",
        "\n",
        "* Entrenamiento:\n",
        "\n",
        "  * `X_train` y `y_train`: Datos de entrada y etiquetas para ajustar el modelo.\n",
        "  * Épocas: El modelo pasará 50 veces por todos los datos de entrenamiento.\n",
        "  * Validation Split: Reserva el 20% de los datos de entrenamiento para evaluar el modelo después de cada época.\n",
        "  * Verbose: Nivel de detalle mostrado durante el entrenamiento (1 = progresos detallados).\n",
        "\n",
        "* Salida: El objeto historia almacena métricas como pérdida y precisión para análisis posterior."
      ],
      "metadata": {
        "id": "z4wFr9A5X8C-"
      }
    },
    {
      "cell_type": "code",
      "source": [
        "# Paso 5: Entrenar el modelo\n",
        "# TODO: Entrenar el modelo por 50 épocas con un 20% de validación.\n",
        "historia = modelo.fit(\n",
        "    X_train, y_train,\n",
        "    epochs=50,\n",
        "    validation_split=0.2,\n",
        "    verbose=1\n",
        ")"
      ],
      "metadata": {
        "colab": {
          "base_uri": "https://localhost:8080/"
        },
        "id": "d4GpsbisVHtB",
        "outputId": "c3574081-2ce4-483e-cb3f-c21ef333ac88"
      },
      "execution_count": 21,
      "outputs": [
        {
          "output_type": "stream",
          "name": "stdout",
          "text": [
            "Epoch 1/50\n",
            "\u001b[1m11/11\u001b[0m \u001b[32m━━━━━━━━━━━━━━━━━━━━\u001b[0m\u001b[37m\u001b[0m \u001b[1m4s\u001b[0m 144ms/step - loss: 569.7183 - mae: 22.1080 - val_loss: 599.7499 - val_mae: 22.7563\n",
            "Epoch 2/50\n",
            "\u001b[1m11/11\u001b[0m \u001b[32m━━━━━━━━━━━━━━━━━━━━\u001b[0m\u001b[37m\u001b[0m \u001b[1m0s\u001b[0m 7ms/step - loss: 521.3351 - mae: 21.1635 - val_loss: 550.0276 - val_mae: 21.6730\n",
            "Epoch 3/50\n",
            "\u001b[1m11/11\u001b[0m \u001b[32m━━━━━━━━━━━━━━━━━━━━\u001b[0m\u001b[37m\u001b[0m \u001b[1m0s\u001b[0m 7ms/step - loss: 487.2842 - mae: 19.9259 - val_loss: 487.8351 - val_mae: 20.2384\n",
            "Epoch 4/50\n",
            "\u001b[1m11/11\u001b[0m \u001b[32m━━━━━━━━━━━━━━━━━━━━\u001b[0m\u001b[37m\u001b[0m \u001b[1m0s\u001b[0m 11ms/step - loss: 431.0826 - mae: 18.4730 - val_loss: 407.7893 - val_mae: 18.3225\n",
            "Epoch 5/50\n",
            "\u001b[1m11/11\u001b[0m \u001b[32m━━━━━━━━━━━━━━━━━━━━\u001b[0m\u001b[37m\u001b[0m \u001b[1m0s\u001b[0m 7ms/step - loss: 320.6497 - mae: 15.9018 - val_loss: 312.1416 - val_mae: 15.7190\n",
            "Epoch 6/50\n",
            "\u001b[1m11/11\u001b[0m \u001b[32m━━━━━━━━━━━━━━━━━━━━\u001b[0m\u001b[37m\u001b[0m \u001b[1m0s\u001b[0m 7ms/step - loss: 222.3191 - mae: 12.8953 - val_loss: 216.3153 - val_mae: 12.6143\n",
            "Epoch 7/50\n",
            "\u001b[1m11/11\u001b[0m \u001b[32m━━━━━━━━━━━━━━━━━━━━\u001b[0m\u001b[37m\u001b[0m \u001b[1m0s\u001b[0m 7ms/step - loss: 152.3267 - mae: 10.3371 - val_loss: 134.7539 - val_mae: 9.4265\n",
            "Epoch 8/50\n",
            "\u001b[1m11/11\u001b[0m \u001b[32m━━━━━━━━━━━━━━━━━━━━\u001b[0m\u001b[37m\u001b[0m \u001b[1m0s\u001b[0m 7ms/step - loss: 102.8940 - mae: 8.2206 - val_loss: 87.4973 - val_mae: 7.4605\n",
            "Epoch 9/50\n",
            "\u001b[1m11/11\u001b[0m \u001b[32m━━━━━━━━━━━━━━━━━━━━\u001b[0m\u001b[37m\u001b[0m \u001b[1m0s\u001b[0m 7ms/step - loss: 75.9682 - mae: 6.8363 - val_loss: 64.7983 - val_mae: 6.2331\n",
            "Epoch 10/50\n",
            "\u001b[1m11/11\u001b[0m \u001b[32m━━━━━━━━━━━━━━━━━━━━\u001b[0m\u001b[37m\u001b[0m \u001b[1m0s\u001b[0m 7ms/step - loss: 52.2672 - mae: 5.5528 - val_loss: 51.3542 - val_mae: 5.4616\n",
            "Epoch 11/50\n",
            "\u001b[1m11/11\u001b[0m \u001b[32m━━━━━━━━━━━━━━━━━━━━\u001b[0m\u001b[37m\u001b[0m \u001b[1m0s\u001b[0m 7ms/step - loss: 41.9226 - mae: 4.8613 - val_loss: 41.2750 - val_mae: 4.8550\n",
            "Epoch 12/50\n",
            "\u001b[1m11/11\u001b[0m \u001b[32m━━━━━━━━━━━━━━━━━━━━\u001b[0m\u001b[37m\u001b[0m \u001b[1m0s\u001b[0m 11ms/step - loss: 35.8724 - mae: 4.3906 - val_loss: 34.9226 - val_mae: 4.3964\n",
            "Epoch 13/50\n",
            "\u001b[1m11/11\u001b[0m \u001b[32m━━━━━━━━━━━━━━━━━━━━\u001b[0m\u001b[37m\u001b[0m \u001b[1m0s\u001b[0m 7ms/step - loss: 34.7305 - mae: 4.1558 - val_loss: 29.9505 - val_mae: 4.1089\n",
            "Epoch 14/50\n",
            "\u001b[1m11/11\u001b[0m \u001b[32m━━━━━━━━━━━━━━━━━━━━\u001b[0m\u001b[37m\u001b[0m \u001b[1m0s\u001b[0m 8ms/step - loss: 25.9943 - mae: 3.4638 - val_loss: 26.6387 - val_mae: 3.8743\n",
            "Epoch 15/50\n",
            "\u001b[1m11/11\u001b[0m \u001b[32m━━━━━━━━━━━━━━━━━━━━\u001b[0m\u001b[37m\u001b[0m \u001b[1m0s\u001b[0m 8ms/step - loss: 24.3128 - mae: 3.5492 - val_loss: 23.8995 - val_mae: 3.6401\n",
            "Epoch 16/50\n",
            "\u001b[1m11/11\u001b[0m \u001b[32m━━━━━━━━━━━━━━━━━━━━\u001b[0m\u001b[37m\u001b[0m \u001b[1m0s\u001b[0m 8ms/step - loss: 27.4962 - mae: 3.6082 - val_loss: 21.5185 - val_mae: 3.4683\n",
            "Epoch 17/50\n",
            "\u001b[1m11/11\u001b[0m \u001b[32m━━━━━━━━━━━━━━━━━━━━\u001b[0m\u001b[37m\u001b[0m \u001b[1m0s\u001b[0m 8ms/step - loss: 22.3565 - mae: 3.2323 - val_loss: 20.2654 - val_mae: 3.3780\n",
            "Epoch 18/50\n",
            "\u001b[1m11/11\u001b[0m \u001b[32m━━━━━━━━━━━━━━━━━━━━\u001b[0m\u001b[37m\u001b[0m \u001b[1m0s\u001b[0m 7ms/step - loss: 20.2664 - mae: 3.2500 - val_loss: 19.5131 - val_mae: 3.2951\n",
            "Epoch 19/50\n",
            "\u001b[1m11/11\u001b[0m \u001b[32m━━━━━━━━━━━━━━━━━━━━\u001b[0m\u001b[37m\u001b[0m \u001b[1m0s\u001b[0m 7ms/step - loss: 20.4122 - mae: 3.1969 - val_loss: 18.8966 - val_mae: 3.2817\n",
            "Epoch 20/50\n",
            "\u001b[1m11/11\u001b[0m \u001b[32m━━━━━━━━━━━━━━━━━━━━\u001b[0m\u001b[37m\u001b[0m \u001b[1m0s\u001b[0m 7ms/step - loss: 14.8099 - mae: 2.7801 - val_loss: 18.0799 - val_mae: 3.2121\n",
            "Epoch 21/50\n",
            "\u001b[1m11/11\u001b[0m \u001b[32m━━━━━━━━━━━━━━━━━━━━\u001b[0m\u001b[37m\u001b[0m \u001b[1m0s\u001b[0m 7ms/step - loss: 17.2328 - mae: 2.9842 - val_loss: 17.3711 - val_mae: 3.1446\n",
            "Epoch 22/50\n",
            "\u001b[1m11/11\u001b[0m \u001b[32m━━━━━━━━━━━━━━━━━━━━\u001b[0m\u001b[37m\u001b[0m \u001b[1m0s\u001b[0m 7ms/step - loss: 18.6608 - mae: 3.0841 - val_loss: 16.7818 - val_mae: 3.0948\n",
            "Epoch 23/50\n",
            "\u001b[1m11/11\u001b[0m \u001b[32m━━━━━━━━━━━━━━━━━━━━\u001b[0m\u001b[37m\u001b[0m \u001b[1m0s\u001b[0m 8ms/step - loss: 18.6846 - mae: 2.9342 - val_loss: 16.2590 - val_mae: 3.0613\n",
            "Epoch 24/50\n",
            "\u001b[1m11/11\u001b[0m \u001b[32m━━━━━━━━━━━━━━━━━━━━\u001b[0m\u001b[37m\u001b[0m \u001b[1m0s\u001b[0m 7ms/step - loss: 18.9811 - mae: 3.0000 - val_loss: 15.8747 - val_mae: 3.0215\n",
            "Epoch 25/50\n",
            "\u001b[1m11/11\u001b[0m \u001b[32m━━━━━━━━━━━━━━━━━━━━\u001b[0m\u001b[37m\u001b[0m \u001b[1m0s\u001b[0m 8ms/step - loss: 15.3677 - mae: 2.7335 - val_loss: 15.3549 - val_mae: 2.9739\n",
            "Epoch 26/50\n",
            "\u001b[1m11/11\u001b[0m \u001b[32m━━━━━━━━━━━━━━━━━━━━\u001b[0m\u001b[37m\u001b[0m \u001b[1m0s\u001b[0m 7ms/step - loss: 15.0783 - mae: 2.7032 - val_loss: 15.1611 - val_mae: 2.9845\n",
            "Epoch 27/50\n",
            "\u001b[1m11/11\u001b[0m \u001b[32m━━━━━━━━━━━━━━━━━━━━\u001b[0m\u001b[37m\u001b[0m \u001b[1m0s\u001b[0m 7ms/step - loss: 13.3280 - mae: 2.5690 - val_loss: 14.7458 - val_mae: 2.9280\n",
            "Epoch 28/50\n",
            "\u001b[1m11/11\u001b[0m \u001b[32m━━━━━━━━━━━━━━━━━━━━\u001b[0m\u001b[37m\u001b[0m \u001b[1m0s\u001b[0m 7ms/step - loss: 13.5590 - mae: 2.6638 - val_loss: 14.4134 - val_mae: 2.8797\n",
            "Epoch 29/50\n",
            "\u001b[1m11/11\u001b[0m \u001b[32m━━━━━━━━━━━━━━━━━━━━\u001b[0m\u001b[37m\u001b[0m \u001b[1m0s\u001b[0m 7ms/step - loss: 13.8621 - mae: 2.6087 - val_loss: 14.1475 - val_mae: 2.8521\n",
            "Epoch 30/50\n",
            "\u001b[1m11/11\u001b[0m \u001b[32m━━━━━━━━━━━━━━━━━━━━\u001b[0m\u001b[37m\u001b[0m \u001b[1m0s\u001b[0m 7ms/step - loss: 11.7475 - mae: 2.4801 - val_loss: 13.9305 - val_mae: 2.8384\n",
            "Epoch 31/50\n",
            "\u001b[1m11/11\u001b[0m \u001b[32m━━━━━━━━━━━━━━━━━━━━\u001b[0m\u001b[37m\u001b[0m \u001b[1m0s\u001b[0m 8ms/step - loss: 15.3598 - mae: 2.7288 - val_loss: 13.6265 - val_mae: 2.7928\n",
            "Epoch 32/50\n",
            "\u001b[1m11/11\u001b[0m \u001b[32m━━━━━━━━━━━━━━━━━━━━\u001b[0m\u001b[37m\u001b[0m \u001b[1m0s\u001b[0m 7ms/step - loss: 11.8167 - mae: 2.4471 - val_loss: 13.4905 - val_mae: 2.7960\n",
            "Epoch 33/50\n",
            "\u001b[1m11/11\u001b[0m \u001b[32m━━━━━━━━━━━━━━━━━━━━\u001b[0m\u001b[37m\u001b[0m \u001b[1m0s\u001b[0m 7ms/step - loss: 13.1186 - mae: 2.5832 - val_loss: 13.3037 - val_mae: 2.7883\n",
            "Epoch 34/50\n",
            "\u001b[1m11/11\u001b[0m \u001b[32m━━━━━━━━━━━━━━━━━━━━\u001b[0m\u001b[37m\u001b[0m \u001b[1m0s\u001b[0m 8ms/step - loss: 17.2174 - mae: 2.7234 - val_loss: 13.3809 - val_mae: 2.7761\n",
            "Epoch 35/50\n",
            "\u001b[1m11/11\u001b[0m \u001b[32m━━━━━━━━━━━━━━━━━━━━\u001b[0m\u001b[37m\u001b[0m \u001b[1m0s\u001b[0m 7ms/step - loss: 12.2476 - mae: 2.4788 - val_loss: 13.2279 - val_mae: 2.7765\n",
            "Epoch 36/50\n",
            "\u001b[1m11/11\u001b[0m \u001b[32m━━━━━━━━━━━━━━━━━━━━\u001b[0m\u001b[37m\u001b[0m \u001b[1m0s\u001b[0m 7ms/step - loss: 12.5401 - mae: 2.4424 - val_loss: 13.9179 - val_mae: 2.8601\n",
            "Epoch 37/50\n",
            "\u001b[1m11/11\u001b[0m \u001b[32m━━━━━━━━━━━━━━━━━━━━\u001b[0m\u001b[37m\u001b[0m \u001b[1m0s\u001b[0m 7ms/step - loss: 12.9118 - mae: 2.5942 - val_loss: 13.3964 - val_mae: 2.7908\n",
            "Epoch 38/50\n",
            "\u001b[1m11/11\u001b[0m \u001b[32m━━━━━━━━━━━━━━━━━━━━\u001b[0m\u001b[37m\u001b[0m \u001b[1m0s\u001b[0m 7ms/step - loss: 10.3941 - mae: 2.4069 - val_loss: 12.7504 - val_mae: 2.7334\n",
            "Epoch 39/50\n",
            "\u001b[1m11/11\u001b[0m \u001b[32m━━━━━━━━━━━━━━━━━━━━\u001b[0m\u001b[37m\u001b[0m \u001b[1m0s\u001b[0m 7ms/step - loss: 12.0556 - mae: 2.4203 - val_loss: 13.0348 - val_mae: 2.7516\n",
            "Epoch 40/50\n",
            "\u001b[1m11/11\u001b[0m \u001b[32m━━━━━━━━━━━━━━━━━━━━\u001b[0m\u001b[37m\u001b[0m \u001b[1m0s\u001b[0m 8ms/step - loss: 10.1018 - mae: 2.2133 - val_loss: 12.8147 - val_mae: 2.7310\n",
            "Epoch 41/50\n",
            "\u001b[1m11/11\u001b[0m \u001b[32m━━━━━━━━━━━━━━━━━━━━\u001b[0m\u001b[37m\u001b[0m \u001b[1m0s\u001b[0m 7ms/step - loss: 10.4595 - mae: 2.2693 - val_loss: 12.7218 - val_mae: 2.7025\n",
            "Epoch 42/50\n",
            "\u001b[1m11/11\u001b[0m \u001b[32m━━━━━━━━━━━━━━━━━━━━\u001b[0m\u001b[37m\u001b[0m \u001b[1m0s\u001b[0m 7ms/step - loss: 11.6444 - mae: 2.3211 - val_loss: 12.8156 - val_mae: 2.7172\n",
            "Epoch 43/50\n",
            "\u001b[1m11/11\u001b[0m \u001b[32m━━━━━━━━━━━━━━━━━━━━\u001b[0m\u001b[37m\u001b[0m \u001b[1m0s\u001b[0m 9ms/step - loss: 11.3784 - mae: 2.4475 - val_loss: 13.0111 - val_mae: 2.7484\n",
            "Epoch 44/50\n",
            "\u001b[1m11/11\u001b[0m \u001b[32m━━━━━━━━━━━━━━━━━━━━\u001b[0m\u001b[37m\u001b[0m \u001b[1m0s\u001b[0m 7ms/step - loss: 9.1691 - mae: 2.2075 - val_loss: 12.5410 - val_mae: 2.7273\n",
            "Epoch 45/50\n",
            "\u001b[1m11/11\u001b[0m \u001b[32m━━━━━━━━━━━━━━━━━━━━\u001b[0m\u001b[37m\u001b[0m \u001b[1m0s\u001b[0m 7ms/step - loss: 11.5840 - mae: 2.4100 - val_loss: 12.4544 - val_mae: 2.7054\n",
            "Epoch 46/50\n",
            "\u001b[1m11/11\u001b[0m \u001b[32m━━━━━━━━━━━━━━━━━━━━\u001b[0m\u001b[37m\u001b[0m \u001b[1m0s\u001b[0m 7ms/step - loss: 10.4243 - mae: 2.2130 - val_loss: 12.6903 - val_mae: 2.7000\n",
            "Epoch 47/50\n",
            "\u001b[1m11/11\u001b[0m \u001b[32m━━━━━━━━━━━━━━━━━━━━\u001b[0m\u001b[37m\u001b[0m \u001b[1m0s\u001b[0m 8ms/step - loss: 10.6381 - mae: 2.2588 - val_loss: 12.5561 - val_mae: 2.6973\n",
            "Epoch 48/50\n",
            "\u001b[1m11/11\u001b[0m \u001b[32m━━━━━━━━━━━━━━━━━━━━\u001b[0m\u001b[37m\u001b[0m \u001b[1m0s\u001b[0m 7ms/step - loss: 11.8807 - mae: 2.3571 - val_loss: 12.4012 - val_mae: 2.7069\n",
            "Epoch 49/50\n",
            "\u001b[1m11/11\u001b[0m \u001b[32m━━━━━━━━━━━━━━━━━━━━\u001b[0m\u001b[37m\u001b[0m \u001b[1m0s\u001b[0m 8ms/step - loss: 9.2001 - mae: 2.2412 - val_loss: 12.5911 - val_mae: 2.7531\n",
            "Epoch 50/50\n",
            "\u001b[1m11/11\u001b[0m \u001b[32m━━━━━━━━━━━━━━━━━━━━\u001b[0m\u001b[37m\u001b[0m \u001b[1m0s\u001b[0m 7ms/step - loss: 11.4440 - mae: 2.3804 - val_loss: 12.9693 - val_mae: 2.7536\n"
          ]
        }
      ]
    },
    {
      "cell_type": "markdown",
      "source": [
        "## Paso 6: Evaluar el modelo en los datos de Prueba\n",
        "\n",
        "* Se evalúa el modelo entrenado en el conjunto de prueba (`X_test`, `y_test`).\n",
        "* Métricas calculadas:\n",
        " * Pérdida (`mse`): Error cuadrático medio en los datos de prueba.\n",
        " * MAE: Promedio de las diferencias absolutas entre las predicciones y los valores reales."
      ],
      "metadata": {
        "id": "h8lgi0-zYVkM"
      }
    },
    {
      "cell_type": "code",
      "source": [
        "# Paso 6: Evaluar el modelo en los datos de prueba\n",
        "# TODO: Evaluar el modelo en X_test e imprimir la pérdida y MAE.\n",
        "resultado = modelo.evaluate(X_test, y_test, verbose=0)\n",
        "print(\"\\nEvaluación en datos de prueba:\")\n",
        "print(f\" - Pérdida (MSE): {resultado[0]}\")\n",
        "print(f\" - Error Absoluto Medio (MAE): {resultado[1]}\")"
      ],
      "metadata": {
        "colab": {
          "base_uri": "https://localhost:8080/"
        },
        "id": "WpprWEtGVMA_",
        "outputId": "2ab87bd2-5b18-4d59-fe4d-6668dd2bf624"
      },
      "execution_count": 22,
      "outputs": [
        {
          "output_type": "stream",
          "name": "stdout",
          "text": [
            "\n",
            "Evaluación en datos de prueba:\n",
            " - Pérdida (MSE): 24.612743377685547\n",
            " - Error Absoluto Medio (MAE): 3.349597454071045\n"
          ]
        }
      ]
    },
    {
      "cell_type": "markdown",
      "source": [
        "## Paso 7: Visualización de las curvas de entrenamiento\n",
        "\n",
        "\n",
        "\n",
        "*   Visualiza cómo cambia la pérdida (error) durante las épocas:\n",
        "  *  `loss`: Pérdida en los datos de entrenamiento.\n",
        "  *  `val_loss`: Pérdida en los datos de validación.\n",
        "*   Interpretación:\n",
        "  *   Si la pérdida de validación es significativamente mayor que la de entrenamiento, hay overfitting.\n",
        "  *   Si ambas pérdidas no mejoran, el modelo podría estar subentrenado o necesitar ajustes.\n",
        "\n",
        "\n"
      ],
      "metadata": {
        "id": "a2bOucBcYqNF"
      }
    },
    {
      "cell_type": "code",
      "source": [
        "# Paso 7: Visualización de las curvas de entrenamiento\n",
        "# TODO: Graficar las curvas de pérdida (entrenamiento y validación).\n",
        "plt.plot(historia.history['loss'], label='Pérdida de Entrenamiento')\n",
        "plt.plot(historia.history['val_loss'], label='Pérdida de Validación')\n",
        "plt.legend()\n",
        "plt.title(\"Curvas de Pérdida\")\n",
        "plt.xlabel(\"Épocas\")\n",
        "plt.ylabel(\"Pérdida\")\n",
        "plt.show()\n"
      ],
      "metadata": {
        "colab": {
          "base_uri": "https://localhost:8080/",
          "height": 474
        },
        "id": "JBbNCE33VRZT",
        "outputId": "0a7db870-3e9a-49de-cee7-2008ded07c70"
      },
      "execution_count": 23,
      "outputs": [
        {
          "output_type": "display_data",
          "data": {
            "text/plain": [
              "<Figure size 640x480 with 1 Axes>"
            ],
            "image/png": "[encoded data removed]"
          },
          "metadata": {}
        }
      ]
    },
    {
      "cell_type": "markdown",
      "source": [
        "## Paso 8: Hacer predicciones\n",
        "\n",
        "* Se realizan predicciones en los primeros 10 ejemplos del conjunto de prueba.\n",
        "* Compara los valores reales (`y_test`) con las predicciones del modelo para analizar su desempeño."
      ],
      "metadata": {
        "id": "0tzJYJliZUZi"
      }
    },
    {
      "cell_type": "code",
      "source": [
        "# Paso 8: Realizar predicciones\n",
        "# TODO: Hacer predicciones con los primeros 10 ejemplos de X_test.\n",
        "predicciones = modelo.predict(X_test[:10])\n",
        "print(\"\\nPredicciones para los primeros 10 ejemplos:\")\n",
        "for i, pred in enumerate(predicciones):\n",
        "    print(f\"Real: {y_test[i]:.2f}, Predicción: {pred[0]:.2f}\")"
      ],
      "metadata": {
        "colab": {
          "base_uri": "https://localhost:8080/"
        },
        "id": "9i2ncZydVVAb",
        "outputId": "c8edbb85-d2b0-4587-c9fb-0e1e810a14d2"
      },
      "execution_count": 24,
      "outputs": [
        {
          "output_type": "stream",
          "name": "stdout",
          "text": [
            "\u001b[1m1/1\u001b[0m \u001b[32m━━━━━━━━━━━━━━━━━━━━\u001b[0m\u001b[37m\u001b[0m \u001b[1m0s\u001b[0m 312ms/step\n",
            "\n",
            "Predicciones para los primeros 10 ejemplos:\n",
            "Real: 7.20, Predicción: 8.48\n",
            "Real: 18.80, Predicción: 16.61\n",
            "Real: 19.00, Predicción: 20.57\n",
            "Real: 27.00, Predicción: 34.44\n",
            "Real: 22.20, Predicción: 25.70\n",
            "Real: 24.50, Predicción: 17.33\n",
            "Real: 31.20, Predicción: 26.56\n",
            "Real: 22.90, Predicción: 22.17\n",
            "Real: 20.50, Predicción: 18.92\n",
            "Real: 23.20, Predicción: 22.27\n"
          ]
        }
      ]
    },
    {
      "cell_type": "markdown",
      "source": [],
      "metadata": {
        "id": "OBTsQL3QLJHm"
      }
    },
    {
      "cell_type": "code",
      "source": [
        "\n",
        "# Paso 8.2: Predecir los valores del conjunto de prueba\n",
        "y_pred = modelo.predict(X_test).flatten()\n",
        "\n",
        "# Paso 9: Graficar Predicho vs Real y línea de regresión\n",
        "plt.figure(figsize=(8, 8))\n",
        "\n",
        "# 9.1 Scatter de valores reales vs predichos\n",
        "plt.scatter(y_test, y_pred, alpha=0.6, label='Datos', edgecolors='w')\n",
        "\n",
        "# 9.2 Ajustar una línea de regresión simple (polinomio grado 1)\n",
        "coef = np.polyfit(y_test, y_pred, 1)           # coef[0] pendiente, coef[1] intercepto\n",
        "line_fn = np.poly1d(coef)\n",
        "\n",
        "# 9.3 Crear valores para trazar la línea\n",
        "x_line = np.linspace(np.min(y_test), np.max(y_test), 100)\n",
        "plt.plot(x_line, line_fn(x_line), 'r-', label=f'Regresión: y = {coef[0]:.2f}x + {coef[1]:.2f}')\n",
        "\n",
        "# 9.4 Línea de identidad (y = x) para referencia\n",
        "plt.plot(x_line, x_line, 'k--', label='Ideal: y = x')\n",
        "\n",
        "# 9.5 Detalles de la gráfica\n",
        "plt.title('Actual vs. Predicho y Línea de Regresión')\n",
        "plt.xlabel('Valor Real de MEDV')\n",
        "plt.ylabel('Valor Predicho de MEDV')\n",
        "plt.legend()\n",
        "plt.grid(True)\n",
        "plt.show()"
      ],
      "metadata": {
        "id": "Rtq2s1-n2H_k",
        "colab": {
          "base_uri": "https://localhost:8080/",
          "height": 737
        },
        "outputId": "ab4587a9-0d52-499a-ff06-4bf1013b1599"
      },
      "execution_count": 28,
      "outputs": [
        {
          "output_type": "stream",
          "name": "stdout",
          "text": [
            "\u001b[1m4/4\u001b[0m \u001b[32m━━━━━━━━━━━━━━━━━━━━\u001b[0m\u001b[37m\u001b[0m \u001b[1m0s\u001b[0m 6ms/step \n"
          ]
        },
        {
          "output_type": "display_data",
          "data": {
            "text/plain": [
              "<Figure size 800x800 with 1 Axes>"
            ],
            "image/png": "[encoded data removed]"
          },
          "metadata": {}
        }
      ]
    }
  ]
}